{
 "cells": [
  {
   "cell_type": "markdown",
   "metadata": {},
   "source": [
    "# Multiagent DDPG Control\n",
    "\n",
    "### 1. Start the Environment\n",
    "\n",
    "We begin by importing the necessary packages.  If the code cell below returns an error, please revisit the project instructions to double-check that you have installed [Unity ML-Agents](https://github.com/Unity-Technologies/ml-agents/blob/master/docs/Installation.md) and [NumPy](http://www.numpy.org/)."
   ]
  },
  {
   "cell_type": "code",
   "execution_count": 1,
   "metadata": {},
   "outputs": [],
   "source": [
    "from unityagents import UnityEnvironment\n",
    "import numpy as np"
   ]
  },
  {
   "cell_type": "markdown",
   "metadata": {},
   "source": [
    "Next, we will start the environment!  **_Before running the code cell below_**, change the `file_name` parameter to match the location of the Unity environment that you downloaded.\n",
    "\n",
    "- **Windows** (x86): `\"path/to/Reacher_Windows_x86/Reacher.exe\"`\n",
    "- **Windows** (x86_64): `\"path/to/Reacher_Windows_x86_64/Reacher.exe\"`\n"
   ]
  },
  {
   "cell_type": "code",
   "execution_count": 2,
   "metadata": {},
   "outputs": [
    {
     "name": "stderr",
     "output_type": "stream",
     "text": [
      "INFO:unityagents:\n",
      "'Academy' started successfully!\n",
      "Unity Academy name: Academy\n",
      "        Number of Brains: 1\n",
      "        Number of External Brains : 1\n",
      "        Lesson number : 0\n",
      "        Reset Parameters :\n",
      "\t\t\n",
      "Unity brain name: TennisBrain\n",
      "        Number of Visual Observations (per agent): 0\n",
      "        Vector Observation space type: continuous\n",
      "        Vector Observation space size (per agent): 8\n",
      "        Number of stacked Vector Observation: 3\n",
      "        Vector Action space type: continuous\n",
      "        Vector Action space size (per agent): 2\n",
      "        Vector Action descriptions: , \n"
     ]
    }
   ],
   "source": [
    "env = UnityEnvironment(file_name=\"../Tennis_Windows_x86_64/Tennis.exe\")"
   ]
  },
  {
   "cell_type": "markdown",
   "metadata": {},
   "source": [
    "Environments contain **_brains_** which are responsible for deciding the actions of their associated agents. Here we check for the first brain available, and set it as the default brain we will be controlling from Python."
   ]
  },
  {
   "cell_type": "code",
   "execution_count": 3,
   "metadata": {},
   "outputs": [],
   "source": [
    "# get the default brain\n",
    "brain_name = env.brain_names[0]\n",
    "brain = env.brains[brain_name]"
   ]
  },
  {
   "cell_type": "markdown",
   "metadata": {},
   "source": [
    "### 2. Examine the State and Action Spaces\n",
    "\n",
    "In this environment, a double-jointed arm can move to target locations. A reward of `+0.1` is provided for each step that the agent's hand is in the goal location. Thus, the goal of your agent is to maintain its position at the target location for as many time steps as possible.\n",
    "\n",
    "The observation space consists of `33` variables corresponding to position, rotation, velocity, and angular velocities of the arm.  Each action is a vector with four numbers, corresponding to torque applicable to two joints.  Every entry in the action vector must be a number between `-1` and `1`.\n",
    "\n",
    "Run the code cell below to print some information about the environment."
   ]
  },
  {
   "cell_type": "code",
   "execution_count": 4,
   "metadata": {},
   "outputs": [
    {
     "name": "stdout",
     "output_type": "stream",
     "text": [
      "Number of agents: 2\n",
      "Size of each action: 2\n",
      "There are 2 agents. Each observes a state with length: 24\n",
      "The state for the first agent looks like: [ 0.          0.          0.          0.          0.          0.\n",
      "  0.          0.          0.          0.          0.          0.\n",
      "  0.          0.          0.          0.         -6.65278625 -1.5\n",
      " -0.          0.          6.83172083  6.         -0.          0.        ]\n"
     ]
    }
   ],
   "source": [
    "# reset the environment\n",
    "env_info = env.reset(train_mode=True)[brain_name]\n",
    "\n",
    "# number of agents\n",
    "num_agents = len(env_info.agents)\n",
    "print('Number of agents:', num_agents)\n",
    "\n",
    "# size of each action\n",
    "action_size = brain.vector_action_space_size\n",
    "print('Size of each action:', action_size)\n",
    "\n",
    "# examine the state space \n",
    "states = env_info.vector_observations\n",
    "state_size = states.shape[1]\n",
    "print('There are {} agents. Each observes a state with length: {}'.format(states.shape[0], state_size))\n",
    "print('The state for the first agent looks like:', states[0])"
   ]
  },
  {
   "cell_type": "markdown",
   "metadata": {},
   "source": [
    "### 3. Training\n",
    "\n",
    "To train your own agent to solve the environment set `train_mode=True`, so that the line for resetting the environment.\n",
    "```python\n",
    "env_info = env.reset(train_mode=True)[brain_name]\n",
    "```"
   ]
  },
  {
   "cell_type": "markdown",
   "metadata": {},
   "source": [
    "#### 3.1 Load Agent"
   ]
  },
  {
   "cell_type": "code",
   "execution_count": 5,
   "metadata": {},
   "outputs": [
    {
     "name": "stdout",
     "output_type": "stream",
     "text": [
      "cuda:0\n"
     ]
    }
   ],
   "source": [
    "from ddpg_agent import Agent\n",
    "agent=[]\n",
    "for i in range(2):\n",
    "    agent.append(Agent(state_size=48, action_size=action_size, random_seed=4))"
   ]
  },
  {
   "cell_type": "markdown",
   "metadata": {},
   "source": [
    "#### 3.2 Train Agent "
   ]
  },
  {
   "cell_type": "code",
   "execution_count": 6,
   "metadata": {},
   "outputs": [],
   "source": [
    "from collections import deque\n",
    "import torch"
   ]
  },
  {
   "cell_type": "code",
   "execution_count": 9,
   "metadata": {},
   "outputs": [],
   "source": [
    "def ddpg(num_agents=2, n_episodes=5000, max_t=1000):\n",
    "\n",
    "    episode_scores = []                                    # list containing scores from each episode\n",
    "    scores_window = deque(maxlen=100)\n",
    "\n",
    "    for i_episode in range(1, n_episodes + 1):\n",
    "        env_info = env.reset(train_mode=True)[brain_name]  # reset the environment\n",
    "        states = env_info.vector_observations              # get the current state (for each agent)\n",
    "        states = np.reshape(states, (1, 48)) \n",
    "        \n",
    "        for i_agent in range(num_agents):\n",
    "                agent[i_agent].reset()\n",
    "\n",
    "        score = np.zeros(num_agents)                       # initialize the score (for each agent)\n",
    "        \n",
    "        for t in range(max_t):\n",
    "            actions=np.zeros((2,action_size))\n",
    "            \n",
    "            for i in range(2):\n",
    "                actions[i] = agent[i].act(states)                    # select an action (for each agent):\n",
    "\n",
    "            actions_ = np.reshape(actions, (1, 4))\n",
    "            \n",
    "            env_info = env.step(actions_)[brain_name]       # send all actions to tne environment\n",
    "            \n",
    "            next_states = env_info.vector_observations     # get next state (for each agent)\n",
    "            next_states = np.reshape(next_states, (1, 48)) \n",
    "            \n",
    "            rewards = env_info.rewards                     # get reward (for each agent)\n",
    "            dones = env_info.local_done                    # see if episode finished\n",
    "\n",
    "            for i_agent in range(num_agents):\n",
    "                agent[i_agent].step(states,\n",
    "                           actions[i_agent],\n",
    "                           rewards[i_agent],\n",
    "                           next_states,\n",
    "                           dones[i_agent], t)              # update the system\n",
    "\n",
    "            score += rewards                               # update the score (for each agent)\n",
    "            states = next_states                           # roll over states to next time step\n",
    "            \n",
    "            if np.any(dones):                              # exit loop if episode finished\n",
    "                break\n",
    "        scores_window.append(np.max(score))\n",
    "        episode_scores.append(np.max(score))\n",
    "\n",
    "        if (i_episode%100==0):\n",
    "            print('\\rEpisode {}\\tAverage Score: {:.4f}\\t Max Score: {:.4f}'.format(i_episode, np.mean(scores_window), np.max(score)))\n",
    "            torch.save(agent[0].actor_local.state_dict(), 'saved/checkpoint_actor_local_1.pth')\n",
    "            torch.save(agent[0].critic_local.state_dict(), 'saved/checkpoint_critic_local_1.pth')\n",
    "            torch.save(agent[0].actor_target.state_dict(), 'saved/checkpoint_actor_target_1.pth')\n",
    "            torch.save(agent[0].critic_target.state_dict(), 'saved/checkpoint_critic_target_1.pth')\n",
    "            torch.save(agent[1].actor_local.state_dict(), 'saved/checkpoint_actor_local_2.pth')\n",
    "            torch.save(agent[1].critic_local.state_dict(), 'saved/checkpoint_critic_local_2.pth')\n",
    "            torch.save(agent[1].actor_target.state_dict(), 'saved/checkpoint_actor_target_2.pth')\n",
    "            torch.save(agent[1].critic_target.state_dict(), 'saved/checkpoint_critic_target_2.pth')\n",
    "        if np.mean(scores_window) > 0.7:\n",
    "            print('\\nEnvironment solved in {:d} episodes!\\tAverage Score: {:.4f}'.format(i_episode,\n",
    "                                                                                         np.mean(scores_window)))\n",
    "            torch.save(agent[0].actor_local.state_dict(), 'saved/solution_actor_local_1.pth')\n",
    "            torch.save(agent[0].critic_local.state_dict(), 'saved/solution_critic_local_1.pth')\n",
    "            torch.save(agent[0].actor_target.state_dict(), 'saved/solution_actor_target_1.pth')\n",
    "            torch.save(agent[0].critic_target.state_dict(), 'saved/solution_critic_target_1.pth')\n",
    "            torch.save(agent[1].actor_local.state_dict(), 'saved/checkpoint_actor_local_2.pth')\n",
    "            torch.save(agent[1].critic_local.state_dict(), 'saved/checkpoint_critic_local_2.pth')\n",
    "            torch.save(agent[1].actor_target.state_dict(), 'saved/checkpoint_actor_target_2.pth')\n",
    "            torch.save(agent[1].critic_target.state_dict(), 'saved/checkpoint_critic_target_2.pth')\n",
    "            break\n",
    "    return episode_scores\n"
   ]
  },
  {
   "cell_type": "code",
   "execution_count": 8,
   "metadata": {},
   "outputs": [
    {
     "name": "stdout",
     "output_type": "stream",
     "text": [
      "Episode 100\tAverage Score: 0.0019\t Max Score: 0.0000\n",
      "Episode 200\tAverage Score: 0.0000\t Max Score: 0.0000\n",
      "Episode 300\tAverage Score: 0.0000\t Max Score: 0.0000\n",
      "Episode 400\tAverage Score: 0.0000\t Max Score: 0.0000\n",
      "Episode 500\tAverage Score: 0.0019\t Max Score: 0.0000\n",
      "Episode 600\tAverage Score: 0.0000\t Max Score: 0.0000\n",
      "Episode 700\tAverage Score: 0.0010\t Max Score: 0.0000\n",
      "Episode 800\tAverage Score: 0.0010\t Max Score: 0.0000\n",
      "Episode 900\tAverage Score: 0.0000\t Max Score: 0.0000\n",
      "Episode 1000\tAverage Score: 0.0009\t Max Score: 0.0000\n",
      "Episode 1100\tAverage Score: 0.0000\t Max Score: 0.0000\n",
      "Episode 1200\tAverage Score: 0.0120\t Max Score: 0.0000\n",
      "Episode 1300\tAverage Score: 0.0040\t Max Score: 0.0000\n",
      "Episode 1400\tAverage Score: 0.0000\t Max Score: 0.0000\n",
      "Episode 1500\tAverage Score: 0.0000\t Max Score: 0.0000\n",
      "Episode 1600\tAverage Score: 0.0010\t Max Score: 0.0000\n",
      "Episode 1700\tAverage Score: 0.0010\t Max Score: 0.0000\n",
      "Episode 1800\tAverage Score: 0.0000\t Max Score: 0.0000\n",
      "Episode 1900\tAverage Score: 0.0010\t Max Score: 0.0000\n",
      "Episode 2000\tAverage Score: 0.0000\t Max Score: 0.0000\n",
      "Episode 2100\tAverage Score: 0.0000\t Max Score: 0.0000\n",
      "Episode 2200\tAverage Score: 0.0010\t Max Score: 0.0000\n",
      "Episode 2300\tAverage Score: 0.0000\t Max Score: 0.0000\n",
      "Episode 2400\tAverage Score: 0.0056\t Max Score: 0.0000\n",
      "Episode 2500\tAverage Score: 0.0049\t Max Score: 0.0000\n",
      "Episode 2600\tAverage Score: 0.0010\t Max Score: 0.0000\n",
      "Episode 2700\tAverage Score: 0.0027\t Max Score: 0.0000\n",
      "Episode 2800\tAverage Score: 0.0202\t Max Score: 0.0000\n",
      "Episode 2900\tAverage Score: 0.0164\t Max Score: 0.0000\n",
      "Episode 3000\tAverage Score: 0.0234\t Max Score: 0.0000\n",
      "Episode 3100\tAverage Score: 0.0454\t Max Score: 0.0000\n",
      "Episode 3200\tAverage Score: 0.0643\t Max Score: 0.1900\n",
      "Episode 3300\tAverage Score: 0.0481\t Max Score: 0.0000\n",
      "Episode 3400\tAverage Score: 0.0100\t Max Score: 0.0000\n",
      "Episode 3500\tAverage Score: 0.0677\t Max Score: 0.0000\n",
      "Episode 3600\tAverage Score: 0.0962\t Max Score: 0.1000\n",
      "Episode 3700\tAverage Score: 0.0988\t Max Score: 0.1000\n",
      "Episode 3800\tAverage Score: 0.0955\t Max Score: 0.1000\n",
      "Episode 3900\tAverage Score: 0.0854\t Max Score: 0.1000\n",
      "Episode 4000\tAverage Score: 0.0727\t Max Score: 0.0000\n",
      "Episode 4100\tAverage Score: 0.0745\t Max Score: 0.0000\n",
      "Episode 4200\tAverage Score: 0.0762\t Max Score: 0.1000\n",
      "Episode 4300\tAverage Score: 0.0922\t Max Score: 0.1000\n",
      "Episode 4400\tAverage Score: 0.0864\t Max Score: 0.0000\n",
      "Episode 4500\tAverage Score: 0.0915\t Max Score: 0.0900\n",
      "Episode 4600\tAverage Score: 0.0734\t Max Score: 0.1000\n",
      "Episode 4700\tAverage Score: 0.0690\t Max Score: 0.1000\n",
      "Episode 4800\tAverage Score: 0.0808\t Max Score: 0.1000\n",
      "Episode 4900\tAverage Score: 0.1207\t Max Score: 0.3000\n",
      "Episode 5000\tAverage Score: 0.1222\t Max Score: 0.1900\n"
     ]
    }
   ],
   "source": [
    "scores = ddpg()"
   ]
  },
  {
   "cell_type": "markdown",
   "metadata": {},
   "source": [
    "#### 3.3 Store Scores "
   ]
  },
  {
   "cell_type": "code",
   "execution_count": 13,
   "metadata": {},
   "outputs": [],
   "source": [
    "import pickle\n",
    "with open('saved/scores.list', 'wb') as scores_file:\n",
    "    pickle.dump(scores, scores_file)"
   ]
  },
  {
   "cell_type": "code",
   "execution_count": 14,
   "metadata": {},
   "outputs": [],
   "source": [
    "saved_scores=[]\n",
    "with open('saved/scores.list', 'rb') as scores_file:\n",
    "    saved_scores = pickle.load(scores_file)\n",
    "\n"
   ]
  },
  {
   "cell_type": "code",
   "execution_count": null,
   "metadata": {},
   "outputs": [],
   "source": []
  },
  {
   "cell_type": "markdown",
   "metadata": {},
   "source": [
    "### 4. Plot Rewards"
   ]
  },
  {
   "cell_type": "code",
   "execution_count": 15,
   "metadata": {},
   "outputs": [],
   "source": [
    "import random\n",
    "import numpy as np\n",
    "from collections import deque\n",
    "import matplotlib.pyplot as plt\n",
    "%matplotlib inline"
   ]
  },
  {
   "cell_type": "code",
   "execution_count": 16,
   "metadata": {},
   "outputs": [
    {
     "data": {
      "image/png": "[encoded data removed]",
      "text/plain": [
       "<Figure size 432x288 with 1 Axes>"
      ]
     },
     "metadata": {
      "needs_background": "light"
     },
     "output_type": "display_data"
    }
   ],
   "source": [
    "fig = plt.figure()\n",
    "ax = fig.add_subplot(111)\n",
    "plt.plot(np.arange(1, len(scores)+1), scores)\n",
    "plt.ylabel('Score')\n",
    "plt.xlabel('Episode #')\n",
    "plt.show()"
   ]
  },
  {
   "cell_type": "code",
   "execution_count": 17,
   "metadata": {},
   "outputs": [],
   "source": [
    "env.close()"
   ]
  }
 ],
 "metadata": {
  "kernelspec": {
   "display_name": "drlnd",
   "language": "python",
   "name": "drlnd"
  },
  "language_info": {
   "codemirror_mode": {
    "name": "ipython",
    "version": 3
   },
   "file_extension": ".py",
   "mimetype": "text/x-python",
   "name": "python",
   "nbconvert_exporter": "python",
   "pygments_lexer": "ipython3",
   "version": "3.6.10"
  }
 },
 "nbformat": 4,
 "nbformat_minor": 2
}
