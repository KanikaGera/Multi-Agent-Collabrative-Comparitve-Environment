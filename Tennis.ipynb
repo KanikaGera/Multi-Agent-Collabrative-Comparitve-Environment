{
 "cells": [
  {
   "cell_type": "markdown",
   "metadata": {},
   "source": [
    "# Collaboration and Competition\n",
    "\n",
    "---\n",
    "\n",
    "You are welcome to use this coding environment to train your agent for the project.  Follow the instructions below to get started!\n",
    "\n",
    "### 1. Start the Environment\n",
    "\n",
    "Run the next code cell to install a few packages.  This line will take a few minutes to run!"
   ]
  },
  {
   "cell_type": "code",
   "execution_count": 1,
   "metadata": {},
   "outputs": [
    {
     "name": "stdout",
     "output_type": "stream",
     "text": [
      "\u001b[31mtensorflow 1.7.1 has requirement numpy>=1.13.3, but you'll have numpy 1.12.1 which is incompatible.\u001b[0m\r\n",
      "\u001b[31mipython 6.5.0 has requirement prompt-toolkit<2.0.0,>=1.0.15, but you'll have prompt-toolkit 3.0.5 which is incompatible.\u001b[0m\r\n"
     ]
    }
   ],
   "source": [
    "!pip -q install ./python"
   ]
  },
  {
   "cell_type": "markdown",
   "metadata": {},
   "source": [
    "The environment is already saved in the Workspace and can be accessed at the file path provided below. "
   ]
  },
  {
   "cell_type": "code",
   "execution_count": 2,
   "metadata": {},
   "outputs": [
    {
     "name": "stderr",
     "output_type": "stream",
     "text": [
      "INFO:unityagents:\n",
      "'Academy' started successfully!\n",
      "Unity Academy name: Academy\n",
      "        Number of Brains: 1\n",
      "        Number of External Brains : 1\n",
      "        Lesson number : 0\n",
      "        Reset Parameters :\n",
      "\t\t\n",
      "Unity brain name: TennisBrain\n",
      "        Number of Visual Observations (per agent): 0\n",
      "        Vector Observation space type: continuous\n",
      "        Vector Observation space size (per agent): 8\n",
      "        Number of stacked Vector Observation: 3\n",
      "        Vector Action space type: continuous\n",
      "        Vector Action space size (per agent): 2\n",
      "        Vector Action descriptions: , \n"
     ]
    }
   ],
   "source": [
    "from unityagents import UnityEnvironment\n",
    "import numpy as np\n",
    "\n",
    "env = UnityEnvironment(file_name=\"/data/Tennis_Linux_NoVis/Tennis\")"
   ]
  },
  {
   "cell_type": "markdown",
   "metadata": {},
   "source": [
    "Environments contain **_brains_** which are responsible for deciding the actions of their associated agents. Here we check for the first brain available, and set it as the default brain we will be controlling from Python."
   ]
  },
  {
   "cell_type": "code",
   "execution_count": 3,
   "metadata": {},
   "outputs": [],
   "source": [
    "# get the default brain\n",
    "brain_name = env.brain_names[0]\n",
    "brain = env.brains[brain_name]"
   ]
  },
  {
   "cell_type": "markdown",
   "metadata": {},
   "source": [
    "### 2. Examine the State and Action Spaces\n",
    "\n",
    "Run the code cell below to print some information about the environment."
   ]
  },
  {
   "cell_type": "code",
   "execution_count": 4,
   "metadata": {},
   "outputs": [
    {
     "name": "stdout",
     "output_type": "stream",
     "text": [
      "Number of agents: 2\n",
      "Size of each action: 2\n",
      "There are 2 agents. Each observes a state with length: 24\n",
      "The state for the first agent looks like: [ 0.          0.          0.          0.          0.          0.          0.\n",
      "  0.          0.          0.          0.          0.          0.          0.\n",
      "  0.          0.         -6.65278625 -1.5        -0.          0.\n",
      "  6.83172083  6.         -0.          0.        ]\n"
     ]
    }
   ],
   "source": [
    "# reset the environment\n",
    "env_info = env.reset(train_mode=True)[brain_name]\n",
    "\n",
    "# number of agents \n",
    "num_agents = len(env_info.agents)\n",
    "print('Number of agents:', num_agents)\n",
    "\n",
    "# size of each action\n",
    "action_size = brain.vector_action_space_size\n",
    "print('Size of each action:', action_size)\n",
    "\n",
    "# examine the state space \n",
    "states = env_info.vector_observations\n",
    "state_size = states.shape[1]\n",
    "print('There are {} agents. Each observes a state with length: {}'.format(states.shape[0], state_size))\n",
    "print('The state for the first agent looks like:', states[0])"
   ]
  },
  {
   "cell_type": "code",
   "execution_count": 5,
   "metadata": {},
   "outputs": [
    {
     "name": "stdout",
     "output_type": "stream",
     "text": [
      "cuda:0\n"
     ]
    }
   ],
   "source": [
    "from ddpg_agent import Agent\n",
    "agent=[]\n",
    "for i in range(2):\n",
    "    agent.append(Agent(state_size=48, action_size=action_size, random_seed=4))"
   ]
  },
  {
   "cell_type": "code",
   "execution_count": 6,
   "metadata": {},
   "outputs": [],
   "source": [
    "from collections import deque\n",
    "import torch"
   ]
  },
  {
   "cell_type": "code",
   "execution_count": 7,
   "metadata": {},
   "outputs": [],
   "source": [
    "def ddpg(num_agents=2, n_episodes=20000, max_t=1000):\n",
    "\n",
    "    episode_scores = []                                    # list containing scores from each episode\n",
    "    scores_window = deque(maxlen=100)\n",
    "\n",
    "    for i_episode in range(1, n_episodes + 1):\n",
    "        env_info = env.reset(train_mode=True)[brain_name]  # reset the environment\n",
    "        states = env_info.vector_observations              # get the current state (for each agent)\n",
    "        states = np.reshape(states, (1, 48)) \n",
    "        \n",
    "        for i_agent in range(num_agents):\n",
    "                agent[i_agent].reset()\n",
    "\n",
    "        score = np.zeros(num_agents)                       # initialize the score (for each agent)\n",
    "        \n",
    "        for t in range(max_t):\n",
    "            actions=np.zeros((2,action_size))\n",
    "            \n",
    "            for i in range(2):\n",
    "                actions[i] = agent[i].act(states)                    # select an action (for each agent):\n",
    "\n",
    "            actions_ = np.reshape(actions, (1, 4))\n",
    "            \n",
    "            env_info = env.step(actions_)[brain_name]       # send all actions to tne environment\n",
    "            \n",
    "            next_states = env_info.vector_observations     # get next state (for each agent)\n",
    "            next_states = np.reshape(next_states, (1, 48)) \n",
    "            \n",
    "            rewards = env_info.rewards                     # get reward (for each agent)\n",
    "            dones = env_info.local_done                    # see if episode finished\n",
    "\n",
    "            for i_agent in range(num_agents):\n",
    "                agent[i_agent].step(states,\n",
    "                           actions[i_agent],\n",
    "                           rewards[i_agent],\n",
    "                           next_states,\n",
    "                           dones[i_agent], t)              # update the system\n",
    "\n",
    "            score += rewards                               # update the score (for each agent)\n",
    "            states = next_states                           # roll over states to next time step\n",
    "            \n",
    "            if np.any(dones):                              # exit loop if episode finished\n",
    "                break\n",
    "        scores_window.append(np.max(score))\n",
    "        episode_scores.append(np.max(score))\n",
    "\n",
    "        if (i_episode%100==0):\n",
    "            print('\\rEpisode {}\\tAverage Score: {:.4f}\\t Max Score: {:.4f}'.format(i_episode, np.mean(scores_window), np.max(score)))\n",
    "            torch.save(agent[0].actor_local.state_dict(), 'saved/checkpoint_actor_local_1.pth')\n",
    "            torch.save(agent[0].critic_local.state_dict(), 'saved/checkpoint_critic_local_1.pth')\n",
    "            torch.save(agent[0].actor_target.state_dict(), 'saved/checkpoint_actor_target_1.pth')\n",
    "            torch.save(agent[0].critic_target.state_dict(), 'saved/checkpoint_critic_target_1.pth')\n",
    "            torch.save(agent[1].actor_local.state_dict(), 'saved/checkpoint_actor_local_2.pth')\n",
    "            torch.save(agent[1].critic_local.state_dict(), 'saved/checkpoint_critic_local_2.pth')\n",
    "            torch.save(agent[1].actor_target.state_dict(), 'saved/checkpoint_actor_target_2.pth')\n",
    "            torch.save(agent[1].critic_target.state_dict(), 'saved/checkpoint_critic_target_2.pth')\n",
    "        if np.mean(scores_window) > 0.7:\n",
    "            print('\\nEnvironment solved in {:d} episodes!\\tAverage Score: {:.4f}'.format(i_episode,\n",
    "                                                                                         np.mean(scores_window)))\n",
    "            torch.save(agent[0].actor_local.state_dict(), 'saved/solution_actor_local_1.pth')\n",
    "            torch.save(agent[0].critic_local.state_dict(), 'saved/solution_critic_local_1.pth')\n",
    "            torch.save(agent[0].actor_target.state_dict(), 'saved/solution_actor_target_1.pth')\n",
    "            torch.save(agent[0].critic_target.state_dict(), 'saved/solution_critic_target_1.pth')\n",
    "            torch.save(agent[1].actor_local.state_dict(), 'saved/checkpoint_actor_local_2.pth')\n",
    "            torch.save(agent[1].critic_local.state_dict(), 'saved/checkpoint_critic_local_2.pth')\n",
    "            torch.save(agent[1].actor_target.state_dict(), 'saved/checkpoint_actor_target_2.pth')\n",
    "            torch.save(agent[1].critic_target.state_dict(), 'saved/checkpoint_critic_target_2.pth')\n",
    "            break\n",
    "    return episode_scores\n"
   ]
  },
  {
   "cell_type": "code",
   "execution_count": null,
   "metadata": {
    "scrolled": false
   },
   "outputs": [
    {
     "name": "stdout",
     "output_type": "stream",
     "text": [
      "Episode 100\tAverage Score: 0.0010\t Max Score: 0.0000\n",
      "Episode 200\tAverage Score: 0.0000\t Max Score: 0.0000\n",
      "Episode 300\tAverage Score: 0.0000\t Max Score: 0.0000\n",
      "Episode 400\tAverage Score: 0.0000\t Max Score: 0.0000\n",
      "Episode 500\tAverage Score: 0.0020\t Max Score: 0.0000\n",
      "Episode 600\tAverage Score: 0.0019\t Max Score: 0.0000\n",
      "Episode 700\tAverage Score: 0.0000\t Max Score: 0.0000\n",
      "Episode 800\tAverage Score: 0.0000\t Max Score: 0.0000\n",
      "Episode 900\tAverage Score: 0.0000\t Max Score: 0.0000\n",
      "Episode 1000\tAverage Score: 0.0000\t Max Score: 0.0000\n",
      "Episode 1100\tAverage Score: 0.0036\t Max Score: 0.0000\n",
      "Episode 1200\tAverage Score: 0.0090\t Max Score: 0.0000\n",
      "Episode 1300\tAverage Score: 0.0000\t Max Score: 0.0000\n",
      "Episode 1400\tAverage Score: 0.0049\t Max Score: 0.0000\n",
      "Episode 1500\tAverage Score: 0.0157\t Max Score: 0.0000\n",
      "Episode 1600\tAverage Score: 0.0174\t Max Score: 0.0000\n",
      "Episode 1700\tAverage Score: 0.0019\t Max Score: 0.0000\n",
      "Episode 1800\tAverage Score: 0.0000\t Max Score: 0.0000\n",
      "Episode 1900\tAverage Score: 0.0010\t Max Score: 0.0000\n",
      "Episode 2000\tAverage Score: 0.0195\t Max Score: 0.0000\n",
      "Episode 2100\tAverage Score: 0.0271\t Max Score: 0.0900\n",
      "Episode 2200\tAverage Score: 0.0170\t Max Score: 0.1000\n",
      "Episode 2300\tAverage Score: 0.0323\t Max Score: 0.0000\n",
      "Episode 2400\tAverage Score: 0.0698\t Max Score: 0.1000\n",
      "Episode 2500\tAverage Score: 0.0830\t Max Score: 0.1000\n",
      "Episode 2600\tAverage Score: 0.0727\t Max Score: 0.0900\n",
      "Episode 2700\tAverage Score: 0.0962\t Max Score: 0.1000\n",
      "Episode 2800\tAverage Score: 0.1069\t Max Score: 0.1000\n",
      "Episode 2900\tAverage Score: 0.1034\t Max Score: 0.0900\n",
      "Episode 3000\tAverage Score: 0.0943\t Max Score: 0.1000\n",
      "Episode 3100\tAverage Score: 0.0812\t Max Score: 0.1000\n",
      "Episode 3200\tAverage Score: 0.0638\t Max Score: 0.0000\n",
      "Episode 3300\tAverage Score: 0.0193\t Max Score: 0.0000\n",
      "Episode 3400\tAverage Score: 0.0369\t Max Score: 0.1000\n",
      "Episode 3500\tAverage Score: 0.0455\t Max Score: 0.1000\n",
      "Episode 3600\tAverage Score: 0.0703\t Max Score: 0.0900\n",
      "Episode 3700\tAverage Score: 0.0800\t Max Score: 0.2000\n",
      "Episode 3800\tAverage Score: 0.1206\t Max Score: 0.1000\n",
      "Episode 3900\tAverage Score: 0.1160\t Max Score: 0.2000\n",
      "Episode 4000\tAverage Score: 0.0969\t Max Score: 0.1000\n",
      "Episode 4100\tAverage Score: 0.0933\t Max Score: 0.1000\n",
      "Episode 4200\tAverage Score: 0.1177\t Max Score: 0.1000\n",
      "Episode 4300\tAverage Score: 0.1288\t Max Score: 0.1000\n",
      "Episode 4400\tAverage Score: 0.1350\t Max Score: 0.1000\n",
      "Episode 4500\tAverage Score: 0.1232\t Max Score: 0.2000\n",
      "Episode 4600\tAverage Score: 0.1277\t Max Score: 0.1000\n",
      "Episode 4700\tAverage Score: 0.1295\t Max Score: 0.2000\n",
      "Episode 4800\tAverage Score: 0.1199\t Max Score: 0.1000\n",
      "Episode 4900\tAverage Score: 0.1442\t Max Score: 0.4000\n",
      "Episode 5000\tAverage Score: 0.1435\t Max Score: 0.1000\n",
      "Episode 5100\tAverage Score: 0.1372\t Max Score: 0.2000\n",
      "Episode 5200\tAverage Score: 0.1033\t Max Score: 0.0000\n",
      "Episode 5300\tAverage Score: 0.0995\t Max Score: 0.1000\n",
      "Episode 5400\tAverage Score: 0.0984\t Max Score: 0.1000\n",
      "Episode 5500\tAverage Score: 0.0828\t Max Score: 0.1000\n",
      "Episode 5600\tAverage Score: 0.0838\t Max Score: 0.1000\n",
      "Episode 5700\tAverage Score: 0.0560\t Max Score: 0.1000\n",
      "Episode 5800\tAverage Score: 0.0400\t Max Score: 0.0000\n",
      "Episode 5900\tAverage Score: 0.0578\t Max Score: 0.1000\n",
      "Episode 6000\tAverage Score: 0.0965\t Max Score: 0.0000\n",
      "Episode 6100\tAverage Score: 0.1054\t Max Score: 0.0000\n",
      "Episode 6200\tAverage Score: 0.1095\t Max Score: 0.0900\n",
      "Episode 6300\tAverage Score: 0.1071\t Max Score: 0.1000\n",
      "Episode 6400\tAverage Score: 0.1183\t Max Score: 0.1000\n",
      "Episode 6500\tAverage Score: 0.1134\t Max Score: 0.1000\n",
      "Episode 6600\tAverage Score: 0.1122\t Max Score: 0.1000\n",
      "Episode 6700\tAverage Score: 0.1227\t Max Score: 0.1000\n",
      "Episode 6800\tAverage Score: 0.1208\t Max Score: 0.2000\n",
      "Episode 6900\tAverage Score: 0.1088\t Max Score: 0.1000\n",
      "Episode 7000\tAverage Score: 0.1196\t Max Score: 0.0000\n",
      "Episode 7100\tAverage Score: 0.1463\t Max Score: 0.1000\n",
      "Episode 7200\tAverage Score: 0.1380\t Max Score: 0.1000\n",
      "Episode 7300\tAverage Score: 0.1287\t Max Score: 0.3000\n",
      "Episode 7400\tAverage Score: 0.1296\t Max Score: 0.1000\n",
      "Episode 7500\tAverage Score: 0.1324\t Max Score: 0.1000\n",
      "Episode 7600\tAverage Score: 0.1078\t Max Score: 0.1000\n",
      "Episode 7700\tAverage Score: 0.1227\t Max Score: 0.1000\n",
      "Episode 7800\tAverage Score: 0.1204\t Max Score: 0.0000\n",
      "Episode 7900\tAverage Score: 0.1154\t Max Score: 0.2000\n",
      "Episode 8000\tAverage Score: 0.1092\t Max Score: 0.1000\n",
      "Episode 8100\tAverage Score: 0.1373\t Max Score: 0.3000\n",
      "Episode 8200\tAverage Score: 0.1188\t Max Score: 0.1000\n",
      "Episode 8300\tAverage Score: 0.1410\t Max Score: 0.1000\n",
      "Episode 8400\tAverage Score: 0.1435\t Max Score: 0.2000\n",
      "Episode 8500\tAverage Score: 0.1293\t Max Score: 0.1000\n",
      "Episode 8600\tAverage Score: 0.1236\t Max Score: 0.2000\n",
      "Episode 8700\tAverage Score: 0.1593\t Max Score: 0.0000\n",
      "Episode 8800\tAverage Score: 0.1532\t Max Score: 0.1000\n",
      "Episode 8900\tAverage Score: 0.1574\t Max Score: 0.2000\n",
      "Episode 9000\tAverage Score: 0.1420\t Max Score: 0.4000\n",
      "Episode 9100\tAverage Score: 0.1692\t Max Score: 0.3000\n",
      "Episode 9200\tAverage Score: 0.1930\t Max Score: 0.2000\n",
      "Episode 9300\tAverage Score: 0.1796\t Max Score: 0.5000\n",
      "Episode 9400\tAverage Score: 0.2308\t Max Score: 0.1000\n",
      "Episode 9500\tAverage Score: 0.2641\t Max Score: 0.2000\n",
      "Episode 9600\tAverage Score: 0.2613\t Max Score: 0.2000\n",
      "Episode 9700\tAverage Score: 0.3046\t Max Score: 0.4000\n",
      "Episode 9800\tAverage Score: 0.3130\t Max Score: 0.3000\n",
      "Episode 9900\tAverage Score: 0.3159\t Max Score: 0.9000\n",
      "Episode 10000\tAverage Score: 0.5305\t Max Score: 0.2000\n",
      "Episode 10100\tAverage Score: 0.6365\t Max Score: 0.3000\n"
     ]
    }
   ],
   "source": [
    "scores = ddpg()"
   ]
  },
  {
   "cell_type": "code",
   "execution_count": null,
   "metadata": {},
   "outputs": [],
   "source": [
    "import pickle\n",
    "with open('saved/scores.list', 'wb') as scores_file:\n",
    "    pickle.dump(scores, scores_file)"
   ]
  },
  {
   "cell_type": "code",
   "execution_count": null,
   "metadata": {},
   "outputs": [],
   "source": [
    "import random\n",
    "import numpy as np\n",
    "from collections import deque\n",
    "import matplotlib.pyplot as plt\n",
    "%matplotlib inline"
   ]
  },
  {
   "cell_type": "code",
   "execution_count": null,
   "metadata": {},
   "outputs": [],
   "source": [
    "fig = plt.figure()\n",
    "ax = fig.add_subplot(111)\n",
    "plt.plot(np.arange(1, len(scores)+1), scores)\n",
    "plt.ylabel('Score')\n",
    "plt.xlabel('Episode #')\n",
    "plt.show()"
   ]
  },
  {
   "cell_type": "code",
   "execution_count": null,
   "metadata": {},
   "outputs": [],
   "source": [
    "env.close()"
   ]
  }
 ],
 "metadata": {
  "kernelspec": {
   "display_name": "Python 3",
   "language": "python",
   "name": "python3"
  },
  "language_info": {
   "codemirror_mode": {
    "name": "ipython",
    "version": 3
   },
   "file_extension": ".py",
   "mimetype": "text/x-python",
   "name": "python",
   "nbconvert_exporter": "python",
   "pygments_lexer": "ipython3",
   "version": "3.6.3"
  }
 },
 "nbformat": 4,
 "nbformat_minor": 2
}
