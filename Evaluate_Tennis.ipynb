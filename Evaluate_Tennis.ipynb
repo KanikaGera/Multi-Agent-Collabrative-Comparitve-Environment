{
 "cells": [
  {
   "cell_type": "markdown",
   "metadata": {},
   "source": [
    "### Plot Graph for Trained Model"
   ]
  },
  {
   "cell_type": "code",
   "execution_count": 1,
   "metadata": {},
   "outputs": [],
   "source": [
    "import pickle\n",
    "saved_scores=[]\n",
    "with open('saved/scores.list', 'rb') as scores_file:\n",
    "    saved_scores = pickle.load(scores_file)"
   ]
  },
  {
   "cell_type": "code",
   "execution_count": 2,
   "metadata": {},
   "outputs": [],
   "source": [
    "import random\n",
    "import numpy as np\n",
    "from collections import deque\n",
    "import matplotlib.pyplot as plt\n",
    "%matplotlib inline"
   ]
  },
  {
   "cell_type": "code",
   "execution_count": 3,
   "metadata": {},
   "outputs": [],
   "source": [
    "import numpy\n",
    "def movingaverage(interval, window_size):\n",
    "    window= numpy.ones(int(window_size))/float(window_size)\n",
    "    return numpy.convolve(interval, window, 'same')"
   ]
  },
  {
   "cell_type": "code",
   "execution_count": 4,
   "metadata": {},
   "outputs": [],
   "source": [
    "scores_av = movingaverage(saved_scores, 100)"
   ]
  },
  {
   "cell_type": "code",
   "execution_count": 5,
   "metadata": {},
   "outputs": [
    {
     "data": {
      "image/png": "[encoded data removed]",
      "text/plain": [
       "<Figure size 432x288 with 1 Axes>"
      ]
     },
     "metadata": {
      "needs_background": "light"
     },
     "output_type": "display_data"
    }
   ],
   "source": [
    "fig = plt.figure()\n",
    "ax = fig.add_subplot(111)\n",
    "plt.plot(np.arange(1, len(saved_scores)+1), saved_scores)\n",
    "plt.plot(np.arange(1, len(scores_av)+1), scores_av,color='orange')\n",
    "plt.ylabel('Score')\n",
    "plt.xlabel('Episode #')\n",
    "plt.show()"
   ]
  },
  {
   "cell_type": "markdown",
   "metadata": {},
   "source": [
    "### Test Trained Model  "
   ]
  },
  {
   "cell_type": "code",
   "execution_count": 6,
   "metadata": {},
   "outputs": [],
   "source": [
    "from unityagents import UnityEnvironment\n",
    "import numpy as np"
   ]
  },
  {
   "cell_type": "markdown",
   "metadata": {},
   "source": [
    "### Load Environment "
   ]
  },
  {
   "cell_type": "markdown",
   "metadata": {},
   "source": [
    "Load Environment according to your OS"
   ]
  },
  {
   "cell_type": "code",
   "execution_count": 7,
   "metadata": {},
   "outputs": [
    {
     "name": "stderr",
     "output_type": "stream",
     "text": [
      "INFO:unityagents:\n",
      "'Academy' started successfully!\n",
      "Unity Academy name: Academy\n",
      "        Number of Brains: 1\n",
      "        Number of External Brains : 1\n",
      "        Lesson number : 0\n",
      "        Reset Parameters :\n",
      "\t\t\n",
      "Unity brain name: TennisBrain\n",
      "        Number of Visual Observations (per agent): 0\n",
      "        Vector Observation space type: continuous\n",
      "        Vector Observation space size (per agent): 8\n",
      "        Number of stacked Vector Observation: 3\n",
      "        Vector Action space type: continuous\n",
      "        Vector Action space size (per agent): 2\n",
      "        Vector Action descriptions: , \n"
     ]
    }
   ],
   "source": [
    "env = UnityEnvironment(file_name=\"../Tennis_Windows_x86_64/Tennis.exe\")"
   ]
  },
  {
   "cell_type": "markdown",
   "metadata": {},
   "source": [
    "Environments contain **_brains_** which are responsible for deciding the actions of their associated agents. Here we check for the first brain available, and set it as the default brain we will be controlling from Python."
   ]
  },
  {
   "cell_type": "code",
   "execution_count": 8,
   "metadata": {},
   "outputs": [],
   "source": [
    "# get the default brain\n",
    "brain_name = env.brain_names[0]\n",
    "brain = env.brains[brain_name]"
   ]
  },
  {
   "cell_type": "code",
   "execution_count": 31,
   "metadata": {},
   "outputs": [],
   "source": [
    "from ddpg_agent import Agent\n",
    "agent=[]\n",
    "for i in range(2):\n",
    "    agent.append(Agent(state_size=48, action_size=2, random_seed=4))"
   ]
  },
  {
   "cell_type": "code",
   "execution_count": 32,
   "metadata": {},
   "outputs": [],
   "source": [
    "import torch\n",
    "import numpy as np\n",
    "from collections import deque"
   ]
  },
  {
   "cell_type": "code",
   "execution_count": 33,
   "metadata": {},
   "outputs": [],
   "source": [
    "state_dict = torch.load('saved/solution_actor_local_1.pth')\n",
    "del state_dict['bn1.num_batches_tracked']\n",
    "agent[0].actor_local.load_state_dict(state_dict)\n",
    "\n",
    "# state_dict = torch.load('saved/solution_critic_local_1.pth')\n",
    "# del state_dict['bn1.num_batches_tracked']\n",
    "# agent[0].critic_local.load_state_dict(state_dict)\n",
    "\n",
    "state_dict = torch.load('saved/solution_actor_target_1.pth')\n",
    "del state_dict['bn1.num_batches_tracked']\n",
    "agent[0].actor_target.load_state_dict(state_dict)\n",
    "\n",
    "\n",
    "# state_dict = torch.load('saved/solution_critic_target_1.pth')\n",
    "# del state_dict['bn1.num_batches_tracked']\n",
    "# agent[0].critic_target.load_state_dict(state_dict)"
   ]
  },
  {
   "cell_type": "code",
   "execution_count": 34,
   "metadata": {},
   "outputs": [],
   "source": [
    "state_dict = torch.load('saved/solution_actor_local_2.pth')\n",
    "del state_dict['bn1.num_batches_tracked']\n",
    "agent[1].actor_local.load_state_dict(state_dict)\n",
    "\n",
    "# state_dict = torch.load('saved/solution_critic_local_2.pth')\n",
    "# del state_dict['bn1.num_batches_tracked']\n",
    "# agent[1].critic_local.load_state_dict(state_dict)\n",
    "\n",
    "state_dict = torch.load('saved/solution_actor_target_2.pth')\n",
    "del state_dict['bn1.num_batches_tracked']\n",
    "agent[1].actor_target.load_state_dict(state_dict)\n",
    "\n",
    "\n",
    "# state_dict = torch.load('saved/solution_critic_target_2.pth')\n",
    "# del state_dict['bn1.num_batches_tracked']\n",
    "# agent[1].critic_target.load_state_dict(state_dict)"
   ]
  },
  {
   "cell_type": "code",
   "execution_count": 35,
   "metadata": {
    "scrolled": true
   },
   "outputs": [
    {
     "name": "stdout",
     "output_type": "stream",
     "text": [
      "Score for the episode 1 is 0.2000\n",
      "Score for the episode 2 is 0.5900\n",
      "Score for the episode 3 is 0.0000\n",
      "Score for the episode 4 is 0.0000\n",
      "Score for the episode 5 is 0.0000\n"
     ]
    }
   ],
   "source": [
    "num_agents=2\n",
    "max_t=1000\n",
    "action_size=2\n",
    "for i_episode in range(1, 6):\n",
    "    env_info = env.reset(train_mode=False)[brain_name]  # reset the environment\n",
    "    states = env_info.vector_observations              # get the current state (for each agent)\n",
    "    states = np.reshape(states, (1, 48)) \n",
    "\n",
    "    score = np.zeros(num_agents)                       # initialize the score (for each agent)\n",
    "\n",
    "    for t in range(max_t):\n",
    "        actions=np.zeros((2,action_size))\n",
    "        for i in range(2):\n",
    "            actions[i] = agent[i].act(states)                    # select an action (for each agent):\n",
    "\n",
    "        actions_ = np.reshape(actions, (1, 4))\n",
    "\n",
    "        env_info = env.step(actions_)[brain_name]       # send all actions to tne environment\n",
    "\n",
    "        next_states = env_info.vector_observations     # get next state (for each agent)\n",
    "        next_states = np.reshape(next_states, (1, 48)) \n",
    "\n",
    "        rewards = env_info.rewards                     # get reward (for each agent)\n",
    "        dones = env_info.local_done                    # see if episode finished\n",
    "\n",
    "        for i_agent in range(num_agents):\n",
    "            agent[i_agent].step(states,\n",
    "                   actions[i_agent],\n",
    "                   rewards[i_agent],\n",
    "                   next_states,\n",
    "                   dones[i_agent], t)              # update the system\n",
    "\n",
    "        score += rewards                               # update the score (for each agent)\n",
    "        states = next_states                           # roll over states to next time step\n",
    "\n",
    "        if np.any(dones):                              # exit loop if episode finished\n",
    "            break\n",
    "\n",
    "    print('Score for the episode {} is {:.4f}'.format(i_episode,np.max(score)))\n"
   ]
  },
  {
   "cell_type": "code",
   "execution_count": 36,
   "metadata": {},
   "outputs": [],
   "source": [
    "env.close()"
   ]
  },
  {
   "cell_type": "code",
   "execution_count": null,
   "metadata": {},
   "outputs": [],
   "source": []
  }
 ],
 "metadata": {
  "kernelspec": {
   "display_name": "drlnd",
   "language": "python",
   "name": "drlnd"
  },
  "language_info": {
   "codemirror_mode": {
    "name": "ipython",
    "version": 3
   },
   "file_extension": ".py",
   "mimetype": "text/x-python",
   "name": "python",
   "nbconvert_exporter": "python",
   "pygments_lexer": "ipython3",
   "version": "3.6.10"
  }
 },
 "nbformat": 4,
 "nbformat_minor": 2
}
